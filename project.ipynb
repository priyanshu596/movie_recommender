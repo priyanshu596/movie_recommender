{
 "cells": [
  {
   "cell_type": "markdown",
   "id": "2b5001bb",
   "metadata": {},
   "source": [
    "#### importing important libraries"
   ]
  },
  {
   "cell_type": "code",
   "execution_count": 1,
   "id": "7e50c607",
   "metadata": {},
   "outputs": [],
   "source": [
    "import pandas as pd\n",
    "from sklearn.feature_extraction.text import TfidfVectorizer\n",
    "from sklearn.metrics.pairwise import cosine_similarity\n"
   ]
  },
  {
   "cell_type": "code",
   "execution_count": 2,
   "id": "8d9e166b",
   "metadata": {},
   "outputs": [
    {
     "name": "stdout",
     "output_type": "stream",
     "text": [
      "   movieId                               title  \\\n",
      "0        1                    Toy Story (1995)   \n",
      "1        2                      Jumanji (1995)   \n",
      "2        3             Grumpier Old Men (1995)   \n",
      "3        4            Waiting to Exhale (1995)   \n",
      "4        5  Father of the Bride Part II (1995)   \n",
      "\n",
      "                                        genres  \n",
      "0  Adventure|Animation|Children|Comedy|Fantasy  \n",
      "1                   Adventure|Children|Fantasy  \n",
      "2                               Comedy|Romance  \n",
      "3                         Comedy|Drama|Romance  \n",
      "4                                       Comedy  \n",
      "   userId  movieId          tag   timestamp\n",
      "0      22    26479  Kevin Kline  1583038886\n",
      "1      22    79592     misogyny  1581476297\n",
      "2      22   247150   acrophobia  1622483469\n",
      "3      34     2174        music  1249808064\n",
      "4      34     2174        weird  1249808102\n"
     ]
    }
   ],
   "source": [
    "# Load MovieLens data\n",
    "movies = pd.read_csv('./dataset/ml-32m/movies.csv')   \n",
    "tags = pd.read_csv('./dataset/ml-32m/tags.csv')       \n",
    "\n",
    "# View basic info\n",
    "print(movies.head())\n",
    "print(tags.head())\n"
   ]
  },
  {
   "cell_type": "code",
   "execution_count": 3,
   "id": "bdf4a198",
   "metadata": {},
   "outputs": [],
   "source": [
    "# Step 3 (Fixed): Group tags by movieId and handle NaN\n",
    "\n",
    "# First, drop NaN tags and convert to string just to be sure\n",
    "tags['tag'] = tags['tag'].fillna('').astype(str)\n",
    "\n",
    "# Group by movieId and join all tags into a single string\n",
    "tags_grouped = tags.groupby('movieId')['tag'].apply(lambda x: \" \".join(x)).reset_index()\n",
    "\n",
    "# Merge with movie metadata\n",
    "movie_data = pd.merge(movies, tags_grouped, on='movieId', how='left')\n"
   ]
  },
  {
   "cell_type": "code",
   "execution_count": 4,
   "id": "670e0c15",
   "metadata": {},
   "outputs": [],
   "source": [
    "# Fill missing values\n",
    "movie_data['tag'] = movie_data['tag'].fillna('')\n",
    "movie_data['genres'] = movie_data['genres'].fillna('')\n",
    "\n",
    "# Combine genres and tags into a single content field\n",
    "movie_data['content'] = movie_data['genres'] + ' ' + movie_data['tag']\n"
   ]
  },
  {
   "cell_type": "code",
   "execution_count": 5,
   "metadata": {},
   "outputs": [
    {
     "name": "stdout",
     "output_type": "stream",
     "text": [
      "TF-IDF matrix shape: (2000, 5000)\n"
     ]
    }
   ],
   "source": [
    "# Filter top 2000 movies for faster prototyping\n",
    "movie_data = movie_data.head(2000)\n",
    "\n",
    "# TF-IDF with max features\n",
    "tfidf = TfidfVectorizer(stop_words='english', max_features=5000)\n",
    "tfidf_matrix = tfidf.fit_transform(movie_data['content'])\n",
    "\n",
    "# Optional: Check shape\n",
    "print(\"TF-IDF matrix shape:\", tfidf_matrix.shape)\n",
    "\n",
    "# Cast to float32\n",
    "tfidf_matrix = tfidf_matrix.astype('float32')\n",
    "\n",
    "\n"
   ]
  },
  {
   "cell_type": "code",
   "execution_count": 6,
   "id": "031989a9",
   "metadata": {},
   "outputs": [
    {
     "name": "stdout",
     "output_type": "stream",
     "text": [
      "[[0.99999964 0.06925565 0.03222631 0.00519176 0.03132839]\n",
      " [0.06925565 1.         0.00950474 0.07960154 0.0341245 ]\n",
      " [0.03222631 0.00950474 1.0000001  0.02056679 0.09993804]\n",
      " [0.00519176 0.07960154 0.02056679 0.99999994 0.02018245]\n",
      " [0.03132839 0.0341245  0.09993804 0.02018245 0.9999999 ]]\n"
     ]
    }
   ],
   "source": [
    "# Compute similarity\n",
    "cosine_sim = cosine_similarity(tfidf_matrix, tfidf_matrix)\n",
    "\n",
    "# Optional: View similarity scores\n",
    "print(cosine_sim[:5, :5])\n"
   ]
  },
  {
   "cell_type": "code",
   "execution_count": 7,
   "id": "51b275c8",
   "metadata": {},
   "outputs": [],
   "source": [
    "# Create a reverse map of movie titles to index\n",
    "indices = pd.Series(movie_data.index, index=movie_data['title'].str.lower()).drop_duplicates()\n"
   ]
  },
  {
   "cell_type": "code",
   "execution_count": 8,
   "id": "fb685df9",
   "metadata": {},
   "outputs": [],
   "source": [
    "def get_recommendations(title, cosine_sim=cosine_sim):\n",
    "    title = title.lower()\n",
    "    idx = indices.get(title)\n",
    "\n",
    "    if idx is None:\n",
    "        return \"Movie not found. Please check the name.\"\n",
    "\n",
    "    # Get pairwise similarity scores for the movie\n",
    "    sim_scores = list(enumerate(cosine_sim[idx]))\n",
    "\n",
    "    # Sort movies based on similarity score\n",
    "    sim_scores = sorted(sim_scores, key=lambda x: x[1], reverse=True)\n",
    "\n",
    "    # Get top 5 recommendations (excluding the input movie itself)\n",
    "    sim_scores = sim_scores[1:6]\n",
    "    movie_indices = [i[0] for i in sim_scores]\n",
    "\n",
    "    return movie_data['title'].iloc[movie_indices].tolist()\n"
   ]
  },
  {
   "cell_type": "code",
   "execution_count": 9,
   "id": "14889aee",
   "metadata": {},
   "outputs": [
    {
     "name": "stdout",
     "output_type": "stream",
     "text": [
      "1831                     Small Soldiers (1998)\n",
      "127                      Pie in the Sky (1996)\n",
      "1165     Cheech and Chong's Up in Smoke (1978)\n",
      "1906     Poltergeist II: The Other Side (1986)\n",
      "1806                  Can't Hardly Wait (1998)\n",
      "1623         I Love You, I Love You Not (1996)\n",
      "1352                             Jaws 2 (1978)\n",
      "1251                     Big Sleep, The (1946)\n",
      "559                   Naked in New York (1994)\n",
      "298     Queen Margot (Reine Margot, La) (1994)\n",
      "Name: title, dtype: object\n"
     ]
    }
   ],
   "source": [
    "print(movie_data['title'].sample(10))\n"
   ]
  },
  {
   "cell_type": "code",
   "execution_count": 10,
   "id": "756c647e",
   "metadata": {},
   "outputs": [
    {
     "name": "stdout",
     "output_type": "stream",
     "text": [
      "\n",
      "Top 5 recommendations for 'The Dark Knight':\n",
      "Movie not found. Please check the name.\n"
     ]
    }
   ],
   "source": [
    "movie_input = \"The Dark Knight\"\n",
    "recommendations = get_recommendations(movie_input)\n",
    "\n",
    "print(f\"\\nTop 5 recommendations for '{movie_input}':\")\n",
    "\n",
    "# Check if result is a list of movies\n",
    "if isinstance(recommendations, list):\n",
    "    for i, movie in enumerate(recommendations, 1):\n",
    "        print(f\"{i}. {movie}\")\n",
    "else:\n",
    "    # It's an error message (string)\n",
    "    print(recommendations)\n"
   ]
  },
  {
   "cell_type": "code",
   "execution_count": 11,
   "id": "618ca8c2",
   "metadata": {},
   "outputs": [
    {
     "name": "stdout",
     "output_type": "stream",
     "text": [
      "['Fausto (1993)', 'Cure, The (1995)', 'My Life as a Dog (Mitt liv som hund) (1985)', 'Asfour Stah (1990)', 'King of the Hill (1993)']\n"
     ]
    }
   ],
   "source": [
    "print(get_recommendations(\"Stand by Me (1986)\"))"
   ]
  },
  {
   "cell_type": "code",
   "execution_count": null,
   "id": "0580a047",
   "metadata": {},
   "outputs": [],
   "source": []
  }
 ],
 "metadata": {
  "kernelspec": {
   "display_name": "Python 3",
   "language": "python",
   "name": "python3"
  },
  "language_info": {
   "codemirror_mode": {
    "name": "ipython",
    "version": 3
   },
   "file_extension": ".py",
   "mimetype": "text/x-python",
   "name": "python",
   "nbconvert_exporter": "python",
   "pygments_lexer": "ipython3",
   "version": "3.10.11"
  }
 },
 "nbformat": 4,
 "nbformat_minor": 5
}
